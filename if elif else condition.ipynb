{
 "cells": [
  {
   "cell_type": "code",
   "execution_count": 1,
   "id": "352e3912",
   "metadata": {},
   "outputs": [
    {
     "name": "stdout",
     "output_type": "stream",
     "text": [
      "its true!\n"
     ]
    }
   ],
   "source": [
    "if True:\n",
    "    print('its true!')"
   ]
  },
  {
   "cell_type": "code",
   "execution_count": 2,
   "id": "08da1b5c",
   "metadata": {},
   "outputs": [
    {
     "name": "stdout",
     "output_type": "stream",
     "text": [
      "true\n"
     ]
    }
   ],
   "source": [
    "if 3>2:\n",
    "    print('true')"
   ]
  },
  {
   "cell_type": "code",
   "execution_count": 7,
   "id": "480717e6",
   "metadata": {},
   "outputs": [
    {
     "name": "stdout",
     "output_type": "stream",
     "text": [
      "feed me\n"
     ]
    }
   ],
   "source": [
    "hungry = True\n",
    "\n",
    "if hungry:\n",
    "    print('feed me')\n",
    "else:\n",
    "    print('not hungry')"
   ]
  },
  {
   "cell_type": "code",
   "execution_count": 12,
   "id": "6f8872cd",
   "metadata": {},
   "outputs": [
    {
     "name": "stdout",
     "output_type": "stream",
     "text": [
      "cars are cool\n"
     ]
    }
   ],
   "source": [
    "loc = 'autoshop'\n",
    "\n",
    "if loc == 'autoshop':\n",
    "    print('cars are cool')\n",
    "elif loc == 'bank':\n",
    "    print('money is cool')\n",
    "elif loc == 'store':\n",
    "    print('welcome to the store')\n",
    "else:\n",
    "    print('i dont know much')"
   ]
  },
  {
   "cell_type": "code",
   "execution_count": 17,
   "id": "257093d1",
   "metadata": {},
   "outputs": [
    {
     "name": "stdout",
     "output_type": "stream",
     "text": [
      "what is your name\n"
     ]
    }
   ],
   "source": [
    "name = 'piyush'\n",
    "\n",
    "if name == 'frankie':\n",
    "    print('hello frankie')\n",
    "elif name == 'sammy':\n",
    "    print('hello sammy')\n",
    "else:\n",
    "    print('what is your name')"
   ]
  },
  {
   "cell_type": "code",
   "execution_count": null,
   "id": "8575d469",
   "metadata": {},
   "outputs": [],
   "source": []
  }
 ],
 "metadata": {
  "kernelspec": {
   "display_name": "Python 3 (ipykernel)",
   "language": "python",
   "name": "python3"
  },
  "language_info": {
   "codemirror_mode": {
    "name": "ipython",
    "version": 3
   },
   "file_extension": ".py",
   "mimetype": "text/x-python",
   "name": "python",
   "nbconvert_exporter": "python",
   "pygments_lexer": "ipython3",
   "version": "3.9.13"
  }
 },
 "nbformat": 4,
 "nbformat_minor": 5
}
